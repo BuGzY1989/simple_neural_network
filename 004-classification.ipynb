{
 "cells": [
  {
   "cell_type": "markdown",
   "metadata": {},
   "source": [
    "# Реализация логистической регрессии в TensorFlow"
   ]
  },
  {
   "cell_type": "code",
   "execution_count": 1,
   "metadata": {},
   "outputs": [
    {
     "name": "stderr",
     "output_type": "stream",
     "text": [
      "C:\\Users\\Kirill\\Anaconda3\\lib\\site-packages\\h5py\\__init__.py:36: FutureWarning: Conversion of the second argument of issubdtype from `float` to `np.floating` is deprecated. In future, it will be treated as `np.float64 == np.dtype(float).type`.\n",
      "  from ._conv import register_converters as _register_converters\n"
     ]
    }
   ],
   "source": [
    "import numpy as np\n",
    "import tensorflow as tf"
   ]
  },
  {
   "cell_type": "code",
   "execution_count": 2,
   "metadata": {},
   "outputs": [],
   "source": [
    "%matplotlib inline\n",
    "from matplotlib import pyplot as plt"
   ]
  },
  {
   "cell_type": "markdown",
   "metadata": {},
   "source": [
    "## Генерируем данные для задачи регрессии"
   ]
  },
  {
   "cell_type": "code",
   "execution_count": 3,
   "metadata": {},
   "outputs": [],
   "source": [
    "NUM_FEATURES = 2\n",
    "NUM_SAMPLES = 1000"
   ]
  },
  {
   "cell_type": "code",
   "execution_count": 4,
   "metadata": {},
   "outputs": [
    {
     "data": {
      "image/png": "[encoded data removed]",
      "text/plain": [
       "<matplotlib.figure.Figure at 0x20afd707978>"
      ]
     },
     "metadata": {},
     "output_type": "display_data"
    }
   ],
   "source": [
    "from sklearn.datasets import make_classification\n",
    "\n",
    "X, y = make_classification(n_samples = NUM_SAMPLES,\n",
    "                           n_features = NUM_FEATURES,\n",
    "                           n_informative = NUM_FEATURES,\n",
    "                           n_redundant = 0,\n",
    "                           n_classes = 2,\n",
    "                           n_clusters_per_class = 1,\n",
    "                           class_sep = 0.75,\n",
    "                           random_state = 54312)\n",
    "\n",
    "y = y.reshape(-1, 1)\n",
    "\n",
    "ones = np.where(y == 1)   # индексы объектов класса '1'\n",
    "zeros = np.where(y == 0)  # индексы объектов класса '0'\n",
    "\n",
    "plt.xlabel('x')\n",
    "plt.ylabel('y')\n",
    "plt.plot(X[ones, 0], X[ones, 1], 'ob',\n",
    "         X[zeros, 0], X[zeros, 1], 'or');"
   ]
  },
  {
   "cell_type": "markdown",
   "metadata": {},
   "source": [
    "## Вспомогательная функция для создания операций"
   ]
  },
  {
   "cell_type": "code",
   "execution_count": 5,
   "metadata": {},
   "outputs": [],
   "source": [
    "import random\n",
    "import string\n",
    "\n",
    "def py_func_with_grad(func, inp, Tout, grad, name = None, stateful = False, graph = None):\n",
    "    \n",
    "    name_prefix = ''.join(random.choices(string.ascii_letters, k = 10))\n",
    "    \n",
    "    name = '%s_%s' % (name_prefix, name or '')\n",
    "    grad_func_name = '%s_grad' % name\n",
    "\n",
    "    tf.RegisterGradient(grad_func_name)(grad)\n",
    "\n",
    "    g = graph or tf.get_default_graph()\n",
    "    with g.gradient_override_map({'PyFunc': grad_func_name, \n",
    "                                  'PyFuncStateless': grad_func_name}):\n",
    "        with tf.name_scope(name, 'PyFuncOp', inp):\n",
    "            return tf.py_func(func, inp, Tout, stateful = stateful, name = name)"
   ]
  },
  {
   "cell_type": "markdown",
   "metadata": {},
   "source": [
    "## Реализация линейной опреаций"
   ]
  },
  {
   "cell_type": "code",
   "execution_count": 25,
   "metadata": {},
   "outputs": [],
   "source": [
    "def linear_op_forward(X, W):\n",
    "    ''' Реализация линейной операции '''\n",
    "    return np.dot(X, W.T)  # аргументы являются numpy-массивами\n",
    "\n",
    "def linear_op_backward(op, grads):\n",
    "    ''' Реализация вычисления градиента линейной операции '''\n",
    "    X = op.inputs[0]  # тензор входных данных\n",
    "    W = op.inputs[1]  # тензор параметров модели\n",
    "    dX = tf.multiply(grads, W)\n",
    "    dW = tf.reduce_sum(tf.multiply(X, grads),\n",
    "                       axis = 0,\n",
    "                       keep_dims = True)\n",
    "    return dX, dW\n",
    "\n",
    "def sigmoid_op_forward(X):\n",
    "    # TODO: реализовать операцию sigmoid\n",
    "    return 1. / (1 + np.exp(-X))\n",
    "\n",
    "def sigmoid_op_backward(op, grads):\n",
    "    sigmoid = op.outputs[0]\n",
    "    return sigmoid * (1 - sigmoid) * grads"
   ]
  },
  {
   "cell_type": "markdown",
   "metadata": {},
   "source": [
    "## Создание графа вычислений и обучение модели"
   ]
  },
  {
   "cell_type": "code",
   "execution_count": 29,
   "metadata": {
    "scrolled": false
   },
   "outputs": [
    {
     "name": "stdout",
     "output_type": "stream",
     "text": [
      "[000] loss=0.770 weights=[[0.4106604  0.18571192]]\n",
      "[010] loss=0.677 weights=[[ 0.1547773  -0.60027647]]\n",
      "[020] loss=0.663 weights=[[ 0.04350976 -1.1902974 ]]\n",
      "[030] loss=0.614 weights=[[ 0.01765607 -1.6152526 ]]\n",
      "[040] loss=0.615 weights=[[ 0.04177309 -1.9406481 ]]\n",
      "[050] loss=0.587 weights=[[ 0.0661652 -2.2098556]]\n",
      "[060] loss=0.623 weights=[[ 0.08854967 -2.4385414 ]]\n",
      "[070] loss=0.594 weights=[[ 0.11899327 -2.6324892 ]]\n",
      "[080] loss=0.563 weights=[[ 0.14065537 -2.8074687 ]]\n",
      "[090] loss=0.572 weights=[[ 0.15707546 -2.9642825 ]]\n",
      "[100] loss=0.593 weights=[[ 0.18080674 -3.1012082 ]]\n",
      "[110] loss=0.540 weights=[[ 0.19805965 -3.2340565 ]]\n",
      "[120] loss=0.558 weights=[[ 0.20213722 -3.351752  ]]\n",
      "[130] loss=0.585 weights=[[ 0.21489488 -3.4641309 ]]\n",
      "[140] loss=0.545 weights=[[ 0.22622916 -3.56669   ]]\n",
      "[150] loss=0.576 weights=[[ 0.24142504 -3.6598792 ]]\n",
      "[160] loss=0.556 weights=[[ 0.24939223 -3.751566  ]]\n",
      "[170] loss=0.569 weights=[[ 0.25675943 -3.8388367 ]]\n",
      "[180] loss=0.610 weights=[[ 0.2583179 -3.9198034]]\n",
      "[190] loss=0.556 weights=[[ 0.26889747 -3.9956267 ]]\n"
     ]
    }
   ],
   "source": [
    "BATCH_SIZE = NUM_SAMPLES // 10\n",
    "\n",
    "weights = None  # в этой переменной мы сохраним результат обучения модели\n",
    "learning_curve = []  # значения ошибки на каждой итерации обучения\n",
    "\n",
    "with tf.Session(graph = tf.Graph()) as sess:  # инициализируем сессию вычислений\n",
    "    \n",
    "    # создаем placeholdr'ы, через них мы будем\n",
    "    # передавать внешние данные в граф вычислений\n",
    "    plh_X = tf.placeholder(dtype = tf.float32, shape = [None, NUM_FEATURES])\n",
    "    plh_labels = tf.placeholder(dtype = tf.float32, shape = [None, 1])\n",
    "\n",
    "    # создаем переменную для хранения весов модели\n",
    "    # эти веса будут изменяться в процессе обучения\n",
    "    var_W = tf.Variable(tf.random_uniform(shape = [1, NUM_FEATURES],\n",
    "                                          dtype = tf.float32,\n",
    "                                          seed = 54321))\n",
    "    \n",
    "    # создаем переменную для результата предсказания модели\n",
    "    var_Pred = py_func_with_grad(linear_op_forward,         # функция предсказания модели \n",
    "                                 [plh_X, var_W],            # аргументы функции\n",
    "                                 [tf.float32],              # тип выходных значений\n",
    "                                 name = 'linear_op',        # имя операции \n",
    "                                 grad = linear_op_backward, # функция для вычисления градиента\n",
    "                                 graph = sess.graph)        # объект графа вчислений\n",
    "    \n",
    "    # создаем переменную для результата операции sigmoid\n",
    "    var_Sigmoid = py_func_with_grad(sigmoid_op_forward,\n",
    "                                    [var_Pred],\n",
    "                                    [tf.float32],\n",
    "                                    name = 'sigmoid_op',\n",
    "                                    grad = sigmoid_op_backward,\n",
    "                                    graph = sess.graph)\n",
    "    \n",
    "    # кроссэнтропийная функция потерь для бмнарной классификации\n",
    "    cost = tf.losses.sigmoid_cross_entropy(plh_labels, var_Sigmoid)\n",
    "    \n",
    "    # инициализируем оптимизатор и указываем скорость обучения\n",
    "    optimizer = tf.train.GradientDescentOptimizer(learning_rate = 0.9).minimize(cost)\n",
    "\n",
    "    # инициализируем placeholder'ы и переменные\n",
    "    sess.run(tf.global_variables_initializer())\n",
    "    \n",
    "    indices = np.arange(len(X))  # массив индексов объектов\n",
    "    \n",
    "    # выполняем итерации по 10-ти эпохам\n",
    "    for epoch in range(20):\n",
    "        \n",
    "        # вначале каждой эпохи перемешиваем индексы\n",
    "        np.random.shuffle(indices)\n",
    "        \n",
    "        # внутри каждой эпохи данные разбиваются на батчи\n",
    "        for batch in range(len(X) // BATCH_SIZE):\n",
    "            \n",
    "            # выбираем индексы очередного батча\n",
    "            batch_indices = indices[batch * BATCH_SIZE:(batch + 1) * BATCH_SIZE]\n",
    "\n",
    "            # выполняем шаг обучения: вычисляем ошибку и обновляем веса\n",
    "            loss, _ = sess.run([cost, optimizer],  # указываем, какие операции необходимо выполнить\n",
    "                               feed_dict = {plh_X: X[batch_indices],  # передаем входные данные для вычисления\n",
    "                                            plh_labels: y[batch_indices]})\n",
    "        \n",
    "            # сохраняем занчения ошибки для построения кривой обучения\n",
    "            learning_curve.append(loss)\n",
    "            \n",
    "            # выводим текущее значение ошибки для каждого 10го шага\n",
    "            steps = len(learning_curve) - 1\n",
    "            if steps % 10 == 0:\n",
    "                print('[%03d] loss=%.3f weights=%s' % (steps, loss, var_W.eval()))\n",
    "    \n",
    "    # сохраняем обученные веса\n",
    "    weights = var_W.eval()"
   ]
  },
  {
   "cell_type": "markdown",
   "metadata": {},
   "source": [
    "## Визуализируем кривую обучения"
   ]
  },
  {
   "cell_type": "code",
   "execution_count": 30,
   "metadata": {},
   "outputs": [
    {
     "data": {
      "image/png": "[encoded data removed]",
      "text/plain": [
       "<matplotlib.figure.Figure at 0x20a807857b8>"
      ]
     },
     "metadata": {},
     "output_type": "display_data"
    }
   ],
   "source": [
    "plt.xlabel('step')\n",
    "plt.ylabel('loss')\n",
    "plt.title('Learning curve')\n",
    "plt.plot(learning_curve);"
   ]
  },
  {
   "cell_type": "markdown",
   "metadata": {},
   "source": [
    "## Визуализируем разделяющую гиперплоскость"
   ]
  },
  {
   "cell_type": "code",
   "execution_count": 31,
   "metadata": {},
   "outputs": [
    {
     "data": {
      "image/png": "[encoded data removed]",
      "text/plain": [
       "<matplotlib.figure.Figure at 0x20a80db2be0>"
      ]
     },
     "metadata": {},
     "output_type": "display_data"
    }
   ],
   "source": [
    "y_pred = - X[:, 0] * weights[0, 0] / weights[0, 1]\n",
    "\n",
    "order = np.argsort(X[:, 0])\n",
    "\n",
    "plt.xlabel('x')\n",
    "plt.ylabel('y')\n",
    "plt.plot(X[ones, 0], X[ones, 1], 'ob',\n",
    "         X[zeros, 0], X[zeros, 1], 'or',\n",
    "         X[order, 0], y_pred[order], '-g');"
   ]
  },
  {
   "cell_type": "markdown",
   "metadata": {},
   "source": [
    "---"
   ]
  },
  {
   "cell_type": "markdown",
   "metadata": {},
   "source": [
    "---"
   ]
  },
  {
   "cell_type": "markdown",
   "metadata": {},
   "source": [
    "---"
   ]
  },
  {
   "cell_type": "code",
   "execution_count": 112,
   "metadata": {},
   "outputs": [],
   "source": [
    "# Importing\n",
    "import matplotlib.pyplot as plt\n",
    "import matplotlib\n",
    "import numpy as np\n",
    "import sklearn.datasets\n",
    "from sklearn.metrics import accuracy_score\n",
    "from random import uniform\n",
    "from math import exp, log\n",
    "from collections import OrderedDict\n",
    "from pprint import pprint\n",
    "\n",
    "# Plot settings\n",
    "%matplotlib inline\n",
    "matplotlib.rcParams['figure.figsize'] = (10.0, 8.0)"
   ]
  },
  {
   "cell_type": "code",
   "execution_count": 151,
   "metadata": {},
   "outputs": [],
   "source": [
    "def generate_moons(n_samples=200, noise=0.2, visualize=True):\n",
    "    X, y = sklearn.datasets.make_moons(n_samples, noise=noise)\n",
    "    if visualize:\n",
    "        plt.scatter(X[:,0], X[:,1], s=40, c=y, cmap=plt.cm.Spectral)\n",
    "    return X, y\n",
    "\n",
    "def get_random_number(a=-1, b=1):\n",
    "    return uniform(a, b)\n",
    "\n",
    "def ReLU(x, return_derivative=False):\n",
    "    if not return_derivative:\n",
    "        return max(0, x)\n",
    "    else:\n",
    "        return (x > 0) * 1\n",
    "\n",
    "def softplus(x, return_derivative=False, limit=30):\n",
    "    if not return_derivative:\n",
    "        if x > limit:\n",
    "            return x\n",
    "        else:\n",
    "            return log(1 + exp(x))\n",
    "    else:\n",
    "        return sigmoid(x)\n",
    "\n",
    "def sigmoid(x, return_derivative=False):\n",
    "    if not return_derivative:\n",
    "        try:\n",
    "            res = 1 / (1 + exp(-x))\n",
    "        except OverflowError:\n",
    "            res = 0\n",
    "    else:\n",
    "        res = sigmoid(x) * (1 - sigmoid(x))\n",
    "    return res\n",
    "\n",
    "def log_loss(y, p, return_derivative=False):\n",
    "    if not return_derivative:\n",
    "        try:\n",
    "            logarithm_p = log(p)\n",
    "        except ValueError:\n",
    "            logarithm_p = -744\n",
    "        try:\n",
    "            logarithm_1_p = log(1-p)\n",
    "        except ValueError:\n",
    "            logarithm_1_p = -744\n",
    "        return -(y*logarithm_p + (1-y)*logarithm_1_p)\n",
    "    else:\n",
    "        return -((y - p) / (p * (1 - p))) * (p * (1 - p))"
   ]
  },
  {
   "cell_type": "code",
   "execution_count": 152,
   "metadata": {},
   "outputs": [],
   "source": [
    "class WeightedConnection:\n",
    "    def __init__(self, weight=None, input_neuron=None, output_neuron=None):\n",
    "        if weight is None:\n",
    "            weight = get_random_number(0, 1)\n",
    "        self.weight = weight\n",
    "        self.input_neuron = input_neuron\n",
    "        self.output_neuron = output_neuron\n",
    "\n",
    "        self.updated_weight = None\n",
    "        self.anti_gradient = None\n",
    "        \n",
    "    def send_signal_through_connection(self, signal):\n",
    "        if not self.input_neuron or not self.output_neuron:\n",
    "            print('Cannot send signal, because '\n",
    "                  'there is no input/output connection')\n",
    "            return False\n",
    "        self.output_neuron.receive_new_input_signal_from(self, signal*self.weight)"
   ]
  },
  {
   "cell_type": "code",
   "execution_count": 153,
   "metadata": {},
   "outputs": [],
   "source": [
    "class Neuron:\n",
    "    instance_counter = 0\n",
    "\n",
    "    def __init__(self, activation_function=ReLU):\n",
    "        Neuron.instance_counter += 1\n",
    "        self.name = str(Neuron.instance_counter) \n",
    "        self.activation_function = activation_function\n",
    "        self.last_value = None\n",
    "        self.bias = 0\n",
    "        self.updated_bias = None\n",
    "        # input_connection = {WeightedConnection(): input_value}\n",
    "        self.input_connections = OrderedDict()\n",
    "        self.received_signals_from = set()\n",
    "\n",
    "        # output_connection = set(WeightedConnection())\n",
    "        self.output_connections = set()\n",
    "\n",
    "    def create_output_connection_with(self, neuron, weight=None, input_value=None):\n",
    "        new_neuron_connection = WeightedConnection(weight=weight,\n",
    "                                                   input_neuron=self,\n",
    "                                                   output_neuron=neuron)\n",
    "        self.output_connections.add(new_neuron_connection)\n",
    "        neuron.input_connections[new_neuron_connection] = input_value\n",
    "        return True\n",
    "\n",
    "    def receive_new_input_signal_from(self, connection, weighted_signal):\n",
    "        if connection not in self.input_connections:\n",
    "            print('Cannot receive new input signal, because no such input neuron')\n",
    "            return False\n",
    "        self.input_connections[connection] = weighted_signal\n",
    "        self.received_signals_from.add(connection)\n",
    "        return True\n",
    "\n",
    "    def has_received_signals_from_all_connections(self):\n",
    "        if self.is_input_neuron():\n",
    "            if self.last_value is None:\n",
    "                return False\n",
    "        elif self.is_middle_neuron() or self.is_output_neuron():\n",
    "            if (not self.input_connections) or \\\n",
    "                (not self.received_signals_from) or \\\n",
    "                 (len(self.input_connections) != len(self.received_signals_from)):\n",
    "                return False\n",
    "        else:\n",
    "            print('Cannot determine neuron type')\n",
    "            return False\n",
    "        return True\n",
    "    \n",
    "    def activate(self):\n",
    "        if self.is_input_neuron():\n",
    "            if len(self.output_connections) == 0:\n",
    "                print(\"Cannot activate input neuron, \"\n",
    "                      \"because it has no output connecitons\")\n",
    "                return False\n",
    "        elif self.is_output_neuron():\n",
    "            if (len(self.input_connections) == 0) or \\\n",
    "                    (not self.has_received_signals_from_all_connections()):\n",
    "                print(\"Cannot activate output neuron, \"\n",
    "                      \"because it has no input connecitons\")\n",
    "                return False\n",
    "        elif self.is_middle_neuron():\n",
    "            if (None in self.input_connections.values()) or \\\n",
    "                   (not self.has_received_signals_from_all_connections()):\n",
    "                print(\"Cannot activate neuron, \"\n",
    "                      \"because it hasn't received all signals \"\n",
    "                      \"from each input neuron yet\")\n",
    "                return False\n",
    "        else:\n",
    "            print('Cannot determine neuron type')\n",
    "            return False\n",
    "        # calculate activated input signal\n",
    "        input_signal = 0\n",
    "        if self.is_input_neuron():\n",
    "            if self.last_value is None:\n",
    "                print(\"Cannot activate input neuron, \"\n",
    "                      \"because its last value is empty\")\n",
    "                return False\n",
    "            input_signal = self.last_value\n",
    "        else:\n",
    "            for input_connection, input_value in self.input_connections.items():\n",
    "                input_signal += input_value\n",
    "        self.last_value = self.activation_function(input_signal + self.bias)\n",
    "\n",
    "        # send signal through each output conneciton\n",
    "        for output_connection in self.output_connections:\n",
    "            output_connection.send_signal_through_connection(self.last_value)\n",
    "\n",
    "        # ready to receive new signals\n",
    "        self.received_signals_from = set()\n",
    "        return True\n",
    "\n",
    "    def calculate_anti_gradient(self):\n",
    "        if self.is_input_neuron():\n",
    "            if len(self.output_connections) == 0:\n",
    "                print(\"Cannot calculate anti-gradient, \"\n",
    "                      \"because neuron has no output connecitons\")\n",
    "                return None\n",
    "        elif self.is_output_neuron():\n",
    "            print(\"For calculation of output neuron anti-gradient \"\n",
    "                  \"use cost function derivative\")\n",
    "            return None\n",
    "        elif self.is_middle_neuron():\n",
    "            if None in self.input_connections.values():\n",
    "                print(\"Cannot calculate anti-gradient, \"\n",
    "                      \"because neuron hasn't received all signals \"\n",
    "                      \"from each input neuron yet\")\n",
    "                return None\n",
    "        else:\n",
    "            print('Cannot determine neuron type')\n",
    "            return None\n",
    "        # calculate activated output signal\n",
    "        anti_gradient = 0\n",
    "        for output_connection in self.output_connections:\n",
    "            if output_connection.anti_gradient is None:\n",
    "                print(\"Cannot calculate neuron anti-gradient, \"\n",
    "                      \"because there is 'None' in \"\n",
    "                      \"one of neurons output connections\")\n",
    "                return None\n",
    "            anti_gradient += output_connection.anti_gradient\n",
    "        return anti_gradient\n",
    "\n",
    "    def is_input_neuron(self):\n",
    "        if len(self.input_connections) == 0 and len(self.output_connections) > 0:\n",
    "            return True\n",
    "        else:\n",
    "            return False\n",
    "\n",
    "    def is_middle_neuron(self):\n",
    "        if len(self.input_connections) > 0 and len(self.output_connections) > 0:\n",
    "            return True\n",
    "        else:\n",
    "            return False\n",
    "        \n",
    "    def is_output_neuron(self):\n",
    "        if len(self.input_connections) > 0 and len(self.output_connections) == 0:\n",
    "            return True\n",
    "        else:\n",
    "            return False"
   ]
  },
  {
   "cell_type": "code",
   "execution_count": 154,
   "metadata": {},
   "outputs": [],
   "source": [
    "class FullyConnectedNeuroNetwork:\n",
    "    def __init__(self, cost_function=log_loss, learning_rate=0.01):\n",
    "        self.layers = []\n",
    "        self.cost_function = cost_function\n",
    "        self.learning_rate = learning_rate\n",
    "        self.ready_to_back_propagate = False\n",
    "        Neuron.instance_counter = 0\n",
    "    \n",
    "    def add_layer(self, number_of_neurons, activation_function=ReLU):\n",
    "        if len(self.layers) == 0:\n",
    "            if not self.add_input_layer(number_of_neurons, activation_function):\n",
    "                return False\n",
    "        else:\n",
    "            if not self.add_fully_connected_layer(number_of_neurons, activation_function):\n",
    "                return False\n",
    "        return True\n",
    "        \n",
    "    def add_input_layer(self, number_of_neurons, activation_function=ReLU):\n",
    "        if len(self.layers) > 0:\n",
    "            print('Cannot add input layer, because it is already exists')\n",
    "            return False\n",
    "        else:\n",
    "            new_neuron_layer = tuple(\n",
    "                Neuron(activation_function=activation_function) \\\n",
    "                    for neuron in range(number_of_neurons)\n",
    "            )\n",
    "            self.layers.append(new_neuron_layer)\n",
    "            return True\n",
    "        \n",
    "    def add_fully_connected_layer(self, number_of_neurons, activation_function=ReLU):\n",
    "        if len(self.layers) > 0:\n",
    "            new_neuron_layer = tuple(\n",
    "                Neuron(activation_function=activation_function) \\\n",
    "                    for neuron in range(number_of_neurons)\n",
    "            )\n",
    "            previous_layer = self.layers[-1]\n",
    "            for output_neuron in previous_layer:\n",
    "                for input_neuron in new_neuron_layer:\n",
    "                    output_neuron.create_output_connection_with(input_neuron)\n",
    "            self.layers.append(new_neuron_layer)\n",
    "            return True\n",
    "        else:\n",
    "            print('Cannot add fully_connected layer, because neural network is empty')\n",
    "            return False\n",
    "        \n",
    "    def get_input_layer(self):\n",
    "        if len(self.layers) > 0:\n",
    "            return self.layers[0]\n",
    "        else:\n",
    "            print('Cannot get input layer, because neural network is empty')\n",
    "            return None\n",
    "        \n",
    "    def get_output_layer(self):\n",
    "        if len(self.layers) > 0:\n",
    "            return self.layers[-1]\n",
    "        else:\n",
    "            print('Cannot get output layer, because neural network is empty')\n",
    "            return None\n",
    "\n",
    "    def is_input_layer(self, layer_index):\n",
    "        return layer_index == 0\n",
    "\n",
    "    def is_middle_layer(self, layer_index):\n",
    "        return layer_index > 0 and layer_index < len(self.layers)\n",
    "\n",
    "    def is_output_layer(self, layer_index):\n",
    "        return layer_index == len(self.layers)\n",
    "        \n",
    "    def forward_calculate(self, input_values, true_y):\n",
    "        if len(self.layers) < 1:\n",
    "            print('Cannot forward calculate, because neural network is empty')\n",
    "            return False\n",
    "        elif len(input_values) < len(self.layers[0]):\n",
    "            print('Cannot forward calculate, not enough input values were given')\n",
    "            return False\n",
    "        else:\n",
    "            for input_neuron, input_value in zip(self.layers[0], input_values):\n",
    "                input_neuron.last_value = input_value\n",
    "            for layer in self.layers:\n",
    "                for neuron in layer:\n",
    "                    neuron.activate()\n",
    "            output_neurons_values = [neuron.last_value for neuron in self.layers[-1]]\n",
    "            predicted_y = \\\n",
    "                sum(output_neurons_values) / len(output_neurons_values)\n",
    "            self.ready_to_back_propagate = True\n",
    "            loss = self.cost_function(true_y, predicted_y)\n",
    "            return true_y, predicted_y, loss\n",
    "    \n",
    "    def backward_propagate(self, true_y, predicted_y):\n",
    "        if len(self.layers) < 1:\n",
    "            print('Cannot backward propagate, because neural network is empty')\n",
    "            return False\n",
    "        elif not self.ready_to_back_propagate:\n",
    "            print('Cannot backward propagate, because did not forward calculated yet')\n",
    "            return False\n",
    "        else:\n",
    "            for layer in reversed(self.layers):\n",
    "                anti_gradient = None\n",
    "                if layer == self.layers[-1]:\n",
    "                    anti_gradient = self.cost_function(true_y,\n",
    "                                                       predicted_y,\n",
    "                                                       return_derivative=True)\n",
    "                if not self.backward_propagate_layer(layer, anti_gradient=anti_gradient):\n",
    "                    print('Cannot backward propagate through layer:', self.layers.index(layer))\n",
    "                    return False\n",
    "            self.ready_to_back_propagate = False\n",
    "            if not self.update_weights_and_biases():\n",
    "                print('Cannot update weights')\n",
    "                return False\n",
    "            self.reset_anti_gradients_updated_weights_and_last_values()\n",
    "            return True\n",
    "    \n",
    "    def backward_propagate_layer(self, layer, anti_gradient=None):\n",
    "        for neuron in layer:\n",
    "            if not self.backward_propagate_neuron(neuron, anti_gradient=anti_gradient):\n",
    "                print('Cannot backward propagate through neuron:', neuron.name)\n",
    "                return False\n",
    "        return True\n",
    "    \n",
    "    def backward_propagate_neuron(self, neuron, anti_gradient=None):\n",
    "        if anti_gradient is None:\n",
    "            anti_gradient = neuron.calculate_anti_gradient()\n",
    "        # update weights\n",
    "        for input_connection in neuron.input_connections:\n",
    "            if not self.backward_propagate_input_connection(input_connection,\n",
    "                                                            anti_gradient):\n",
    "                print('Cannot back propagate connection:', input_connection)\n",
    "                return False\n",
    "        # bias update\n",
    "        new_anti_gradient = \\\n",
    "            anti_gradient * \\\n",
    "                neuron.activation_function(neuron.bias, return_derivative=True)\n",
    "        neuron.updated_bias = \\\n",
    "            neuron.bias - self.learning_rate * new_anti_gradient\n",
    "        return True\n",
    "    \n",
    "    def backward_propagate_input_connection(self, connection, anti_gradient):\n",
    "        if anti_gradient is None:\n",
    "            print(\"Cannot back propagate, because connection anti-gradient is 'None'\")\n",
    "            return False\n",
    "        weighted_signal = connection.output_neuron.input_connections.get(connection)\n",
    "        if weighted_signal is None:\n",
    "            print(\"Cannot back propagate, because no signal was send \"\n",
    "                  \"through connection:\", connection)\n",
    "            return False\n",
    "        new_anti_gradient = \\\n",
    "            anti_gradient * \\\n",
    "                connection.output_neuron.activation_function(\n",
    "                    weighted_signal,\n",
    "                    return_derivative=True\n",
    "                )\n",
    "        connection.updated_weight = \\\n",
    "            connection.weight - self.learning_rate*new_anti_gradient\n",
    "        connection.anti_gradient = new_anti_gradient\n",
    "        return True\n",
    "    \n",
    "    def update_weights_and_biases(self):\n",
    "        for layer in self.layers:\n",
    "            for neuron in layer:\n",
    "                for output_connection in neuron.output_connections:\n",
    "                    if output_connection.updated_weight is None:\n",
    "                        print(\"Updated weight is 'None'\")\n",
    "                        return False\n",
    "                    output_connection.weight = output_connection.updated_weight\n",
    "                if neuron.updated_bias is None:\n",
    "                    print(\"Neuron updated bias is 'None'\")\n",
    "                else:\n",
    "                    neuron.bias = neuron.updated_bias\n",
    "        return True\n",
    "    \n",
    "    def reset_anti_gradients_updated_weights_and_last_values(self):\n",
    "        for layer in self.layers:\n",
    "            for neuron in layer:\n",
    "                neuron.last_value = None\n",
    "                neuron.updated_bias = None\n",
    "                for output_connection in neuron.output_connections:\n",
    "                    output_connection.updated_weight = None\n",
    "                    output_connection.anti_gradient = None\n",
    "        return True"
   ]
  },
  {
   "cell_type": "code",
   "execution_count": 159,
   "metadata": {},
   "outputs": [],
   "source": [
    "# [x, y, true_class]\n",
    "def generate_data(count=1000):\n",
    "    data = []\n",
    "    for i in range(1, count):\n",
    "        x = get_random_number(0, 1)\n",
    "        y = get_random_number(0, 1)\n",
    "        true_class = 1 if y > x else 0\n",
    "        data.append((x, y, true_class))\n",
    "    return data"
   ]
  },
  {
   "cell_type": "code",
   "execution_count": 170,
   "metadata": {},
   "outputs": [
    {
     "data": {
      "text/plain": [
       "True"
      ]
     },
     "execution_count": 170,
     "metadata": {},
     "output_type": "execute_result"
    }
   ],
   "source": [
    "neural_network = FullyConnectedNeuroNetwork()\n",
    "neural_network.add_layer(2, activation_function=sigmoid)\n",
    "neural_network.add_layer(4, activation_function=sigmoid)\n",
    "neural_network.add_layer(2, activation_function=sigmoid)"
   ]
  },
  {
   "cell_type": "code",
   "execution_count": 171,
   "metadata": {},
   "outputs": [
    {
     "name": "stdout",
     "output_type": "stream",
     "text": [
      "Loss: 0.71552 -->  Loss: 0.69461 -->  Loss: 0.69457 -->  Loss: 0.69461 -->  Loss: 0.69406 -->  Loss: 0.69373 -->  Loss: 0.69453 -->  Loss: 0.69499 -->  Loss: 0.69423 -->  Loss: 0.69210 -->  Loss: 0.69543 -->  Loss: 0.69466 -->  Loss: 0.69370 -->  Loss: 0.69466 -->  Loss: 0.69466 -->  Loss: 0.69475 -->  Loss: 0.69350 -->  Loss: 0.69275 -->  Loss: 0.69301 -->  Loss: 0.69501 -->  "
     ]
    }
   ],
   "source": [
    "for i in range(0, 20):\n",
    "    sum_loss = 0\n",
    "    counter = 0\n",
    "    data = generate_data()\n",
    "    for j in range(len(data)):\n",
    "        input_values = data[j][:-1]\n",
    "        true_class = data[j][-1]\n",
    "        counter += 1\n",
    "        true_class, predicted_class, loss = \\\n",
    "            neural_network.forward_calculate(input_values, true_class)\n",
    "        sum_loss += loss\n",
    "        neural_network.backward_propagate(true_class, predicted_class)\n",
    "    print('Loss: {:.5f}'.format(sum_loss / counter), end=' -->  ')"
   ]
  },
  {
   "cell_type": "code",
   "execution_count": 174,
   "metadata": {},
   "outputs": [],
   "source": [
    "true_y = []\n",
    "predicted_y = []\n",
    "\n",
    "data = generate_data(10000)\n",
    "for each in data:\n",
    "    true_class, predicted_class, loss = \\\n",
    "        neural_network.forward_calculate(each[:-1], each[-1])\n",
    "    neural_network.reset_anti_gradients_updated_weights_and_last_values()\n",
    "    true_y.append(each[-1])\n",
    "    predicted_class = \\\n",
    "        1 if predicted_class >= 0.5 else 0\n",
    "    predicted_y.append(predicted_class)"
   ]
  },
  {
   "cell_type": "code",
   "execution_count": 164,
   "metadata": {},
   "outputs": [],
   "source": [
    "y_true = np.array(true_y)\n",
    "y_pred = np.array(predicted_y)"
   ]
  },
  {
   "cell_type": "code",
   "execution_count": 165,
   "metadata": {},
   "outputs": [
    {
     "data": {
      "text/plain": [
       "0.49624962496249625"
      ]
     },
     "execution_count": 165,
     "metadata": {},
     "output_type": "execute_result"
    }
   ],
   "source": [
    "accuracy_score(y_true, y_pred)"
   ]
  },
  {
   "cell_type": "code",
   "execution_count": null,
   "metadata": {},
   "outputs": [],
   "source": []
  }
 ],
 "metadata": {
  "kernelspec": {
   "display_name": "Python 3",
   "language": "python",
   "name": "python3"
  },
  "language_info": {
   "codemirror_mode": {
    "name": "ipython",
    "version": 3
   },
   "file_extension": ".py",
   "mimetype": "text/x-python",
   "name": "python",
   "nbconvert_exporter": "python",
   "pygments_lexer": "ipython3",
   "version": "3.6.4"
  },
  "toc": {
   "base_numbering": 1,
   "nav_menu": {},
   "number_sections": true,
   "sideBar": true,
   "skip_h1_title": false,
   "title_cell": "Table of Contents",
   "title_sidebar": "Contents",
   "toc_cell": false,
   "toc_position": {},
   "toc_section_display": true,
   "toc_window_display": false
  }
 },
 "nbformat": 4,
 "nbformat_minor": 2
}
